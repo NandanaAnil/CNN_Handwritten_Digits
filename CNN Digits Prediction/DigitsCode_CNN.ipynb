{
 "cells": [
  {
   "cell_type": "code",
   "execution_count": 1,
   "id": "a61e7a4c-2b21-4852-9496-93aefb572004",
   "metadata": {},
   "outputs": [],
   "source": [
    "from tensorflow.keras.models import Sequential\n",
    "from tensorflow.keras.layers import Conv2D, MaxPooling2D, Flatten, Dense\n",
    "from tensorflow.keras.datasets import mnist\n",
    "from tensorflow.keras.utils import to_categorical"
   ]
  },
  {
   "cell_type": "code",
   "execution_count": 2,
   "id": "5ebbe58b-a588-496f-b2cb-9578862c8ea9",
   "metadata": {},
   "outputs": [],
   "source": [
    "(x_train, y_train), (x_test, y_test) = mnist.load_data()"
   ]
  },
  {
   "cell_type": "code",
   "execution_count": 3,
   "id": "45de98a8-5af8-4e71-9d5b-b82be0b7c552",
   "metadata": {},
   "outputs": [],
   "source": [
    "# 2. Reshape to (28,28,1) because CNN expects 2D with channels\n",
    "x_train = x_train.reshape(-1, 28, 28, 1).astype(\"float32\") / 255.0\n",
    "x_test = x_test.reshape(-1, 28, 28, 1).astype(\"float32\") / 255.0"
   ]
  },
  {
   "cell_type": "code",
   "execution_count": 4,
   "id": "2ef8219a-aed4-48c5-a57f-3b89d227c8b1",
   "metadata": {},
   "outputs": [],
   "source": [
    "#3. One-hot encode labels\n",
    "y_train = to_categorical(y_train, 10)\n",
    "y_test = to_categorical(y_test, 10)"
   ]
  },
  {
   "cell_type": "code",
   "execution_count": 5,
   "id": "15af0cd1-b3a3-4bc1-8041-3673c9799eec",
   "metadata": {},
   "outputs": [
    {
     "name": "stderr",
     "output_type": "stream",
     "text": [
      "C:\\Users\\Nandana\\anaconda3\\Lib\\site-packages\\keras\\src\\layers\\convolutional\\base_conv.py:113: UserWarning: Do not pass an `input_shape`/`input_dim` argument to a layer. When using Sequential models, prefer using an `Input(shape)` object as the first layer in the model instead.\n",
      "  super().__init__(activity_regularizer=activity_regularizer, **kwargs)\n"
     ]
    }
   ],
   "source": [
    "# 4. Build CNN model\n",
    "model = Sequential([\n",
    "    Conv2D(32, (3,3), activation=\"relu\", input_shape=(28,28,1)),\n",
    "    MaxPooling2D((2,2)),\n",
    "    Conv2D(64, (3,3), activation=\"relu\"),\n",
    "    MaxPooling2D((2,2)),\n",
    "    Flatten(),\n",
    "    Dense(128, activation=\"relu\"),\n",
    "    Dense(10, activation=\"softmax\")\n",
    "])"
   ]
  },
  {
   "cell_type": "code",
   "execution_count": 6,
   "id": "1b9bd0d6-113f-4cd7-9a0f-0ee75033a94e",
   "metadata": {},
   "outputs": [],
   "source": [
    "model.compile(optimizer=\"adam\", loss=\"categorical_crossentropy\", metrics=[\"accuracy\"])"
   ]
  },
  {
   "cell_type": "code",
   "execution_count": 7,
   "id": "9624e082-f868-43f2-b761-315258fbc854",
   "metadata": {},
   "outputs": [
    {
     "name": "stdout",
     "output_type": "stream",
     "text": [
      "Epoch 1/5\n",
      "\u001b[1m844/844\u001b[0m \u001b[32m━━━━━━━━━━━━━━━━━━━━\u001b[0m\u001b[37m\u001b[0m \u001b[1m13s\u001b[0m 14ms/step - accuracy: 0.9492 - loss: 0.1666 - val_accuracy: 0.9838 - val_loss: 0.0494\n",
      "Epoch 2/5\n",
      "\u001b[1m844/844\u001b[0m \u001b[32m━━━━━━━━━━━━━━━━━━━━\u001b[0m\u001b[37m\u001b[0m \u001b[1m13s\u001b[0m 15ms/step - accuracy: 0.9856 - loss: 0.0477 - val_accuracy: 0.9880 - val_loss: 0.0384\n",
      "Epoch 3/5\n",
      "\u001b[1m844/844\u001b[0m \u001b[32m━━━━━━━━━━━━━━━━━━━━\u001b[0m\u001b[37m\u001b[0m \u001b[1m13s\u001b[0m 16ms/step - accuracy: 0.9894 - loss: 0.0331 - val_accuracy: 0.9895 - val_loss: 0.0359\n",
      "Epoch 4/5\n",
      "\u001b[1m844/844\u001b[0m \u001b[32m━━━━━━━━━━━━━━━━━━━━\u001b[0m\u001b[37m\u001b[0m \u001b[1m14s\u001b[0m 17ms/step - accuracy: 0.9929 - loss: 0.0233 - val_accuracy: 0.9912 - val_loss: 0.0358\n",
      "Epoch 5/5\n",
      "\u001b[1m844/844\u001b[0m \u001b[32m━━━━━━━━━━━━━━━━━━━━\u001b[0m\u001b[37m\u001b[0m \u001b[1m14s\u001b[0m 16ms/step - accuracy: 0.9937 - loss: 0.0186 - val_accuracy: 0.9903 - val_loss: 0.0350\n"
     ]
    },
    {
     "data": {
      "text/plain": [
       "<keras.src.callbacks.history.History at 0x19633b60a10>"
      ]
     },
     "execution_count": 7,
     "metadata": {},
     "output_type": "execute_result"
    }
   ],
   "source": [
    "# 6. Train\n",
    "model.fit(x_train, y_train, epochs=5, batch_size=64, validation_split=0.1)"
   ]
  },
  {
   "cell_type": "code",
   "execution_count": 8,
   "id": "b870387a-7364-451b-a84d-d66373e61e8d",
   "metadata": {},
   "outputs": [
    {
     "name": "stdout",
     "output_type": "stream",
     "text": [
      "\u001b[1m313/313\u001b[0m \u001b[32m━━━━━━━━━━━━━━━━━━━━\u001b[0m\u001b[37m\u001b[0m \u001b[1m1s\u001b[0m 5ms/step - accuracy: 0.9882 - loss: 0.0347\n",
      "Test accuracy: 0.9882000088691711\n"
     ]
    }
   ],
   "source": [
    "# 7. Evaluate\n",
    "loss, acc = model.evaluate(x_test, y_test)\n",
    "print(\"Test accuracy:\", acc)"
   ]
  },
  {
   "cell_type": "code",
   "execution_count": 9,
   "id": "5ffa296f-31be-4229-b494-f33e9dad5c88",
   "metadata": {},
   "outputs": [],
   "source": [
    "from PIL import Image, ImageOps\n",
    "import numpy as np\n",
    "import matplotlib.pyplot as plt\n",
    "\n",
    "def preprocess_digit_image_for_cnn(path, invert=True, threshold=False):\n",
    "    img = Image.open(path).convert(\"L\")\n",
    "\n",
    "    if invert:\n",
    "        img = ImageOps.invert(img)\n",
    "\n",
    "    img = img.resize((28, 28))\n",
    "    arr = np.array(img) / 255.0\n",
    "\n",
    "    if threshold:\n",
    "        arr = (arr > 0.5).astype(float)\n",
    "\n",
    "    arr = arr.reshape(1, 28, 28, 1)  # CNN expects 4D\n",
    "    return arr"
   ]
  },
  {
   "cell_type": "code",
   "execution_count": 11,
   "id": "e44220f1-2b56-4551-a468-f9d0f3d3e80e",
   "metadata": {},
   "outputs": [
    {
     "name": "stdout",
     "output_type": "stream",
     "text": [
      "\u001b[1m1/1\u001b[0m \u001b[32m━━━━━━━━━━━━━━━━━━━━\u001b[0m\u001b[37m\u001b[0m \u001b[1m0s\u001b[0m 144ms/step\n",
      "Predicted digit: 0\n"
     ]
    }
   ],
   "source": [
    "arr = preprocess_digit_image_for_cnn(\"Zero.jpg\", invert=True, threshold=False)\n",
    "\n",
    "pred = model.predict(arr)\n",
    "print(\"Predicted digit:\", np.argmax(pred))"
   ]
  },
  {
   "cell_type": "code",
   "execution_count": 12,
   "id": "ae81e510-9750-4f2d-879a-3abbddc1fdfe",
   "metadata": {},
   "outputs": [
    {
     "data": {
      "image/png": "[encoded data removed]",
      "text/plain": [
       "<Figure size 640x480 with 1 Axes>"
      ]
     },
     "metadata": {},
     "output_type": "display_data"
    },
    {
     "name": "stdout",
     "output_type": "stream",
     "text": [
      "\u001b[1m1/1\u001b[0m \u001b[32m━━━━━━━━━━━━━━━━━━━━\u001b[0m\u001b[37m\u001b[0m \u001b[1m0s\u001b[0m 49ms/step\n",
      "Predicted digit: 0\n"
     ]
    }
   ],
   "source": [
    "arr = preprocess_digit_image_for_cnn(\"Zero.jpg\", invert=True, threshold=False)\n",
    "\n",
    "plt.imshow(arr.reshape(28,28), cmap=\"gray\")\n",
    "plt.title(\"Processed Image for CNN\")\n",
    "plt.axis(\"off\")\n",
    "plt.show()\n",
    "\n",
    "pred = model.predict(arr)\n",
    "print(\"Predicted digit:\", np.argmax(pred))"
   ]
  },
  {
   "cell_type": "code",
   "execution_count": 14,
   "id": "81fcf406-9dcb-462f-8c62-4a113435d24d",
   "metadata": {},
   "outputs": [
    {
     "name": "stdout",
     "output_type": "stream",
     "text": [
      "\u001b[1m1/1\u001b[0m \u001b[32m━━━━━━━━━━━━━━━━━━━━\u001b[0m\u001b[37m\u001b[0m \u001b[1m0s\u001b[0m 76ms/step\n",
      "Predicted digit: 1\n"
     ]
    }
   ],
   "source": [
    "arr = preprocess_digit_image_for_cnn(\"One.jpg\", invert=True, threshold=False)\n",
    "\n",
    "pred = model.predict(arr)\n",
    "print(\"Predicted digit:\", np.argmax(pred))"
   ]
  },
  {
   "cell_type": "code",
   "execution_count": 15,
   "id": "8c3fde64-1f85-4a57-b8a0-ee5f5ccf719d",
   "metadata": {},
   "outputs": [
    {
     "data": {
      "image/png": "[encoded data removed]",
      "text/plain": [
       "<Figure size 640x480 with 1 Axes>"
      ]
     },
     "metadata": {},
     "output_type": "display_data"
    },
    {
     "name": "stdout",
     "output_type": "stream",
     "text": [
      "\u001b[1m1/1\u001b[0m \u001b[32m━━━━━━━━━━━━━━━━━━━━\u001b[0m\u001b[37m\u001b[0m \u001b[1m0s\u001b[0m 66ms/step\n",
      "Predicted digit: 1\n"
     ]
    }
   ],
   "source": [
    "arr = preprocess_digit_image_for_cnn(\"One.jpg\", invert=True, threshold=False)\n",
    "\n",
    "plt.imshow(arr.reshape(28,28), cmap=\"gray\")\n",
    "plt.title(\"Processed Image for CNN\")\n",
    "plt.axis(\"off\")\n",
    "plt.show()\n",
    "\n",
    "pred = model.predict(arr)\n",
    "print(\"Predicted digit:\", np.argmax(pred))"
   ]
  },
  {
   "cell_type": "code",
   "execution_count": 16,
   "id": "51eb9b3e-f7b7-4eb9-811a-2f2bdf8cbf4b",
   "metadata": {},
   "outputs": [
    {
     "data": {
      "image/png": "[encoded data removed]",
      "text/plain": [
       "<Figure size 640x480 with 1 Axes>"
      ]
     },
     "metadata": {},
     "output_type": "display_data"
    },
    {
     "name": "stdout",
     "output_type": "stream",
     "text": [
      "\u001b[1m1/1\u001b[0m \u001b[32m━━━━━━━━━━━━━━━━━━━━\u001b[0m\u001b[37m\u001b[0m \u001b[1m0s\u001b[0m 59ms/step\n",
      "Predicted digit: 2\n"
     ]
    }
   ],
   "source": [
    "arr = preprocess_digit_image_for_cnn(\"Two.jpg\", invert=True, threshold=False)\n",
    "\n",
    "plt.imshow(arr.reshape(28,28), cmap=\"gray\")\n",
    "plt.title(\"Processed Image for CNN\")\n",
    "plt.axis(\"off\")\n",
    "plt.show()\n",
    "\n",
    "pred = model.predict(arr)\n",
    "print(\"Predicted digit:\", np.argmax(pred))"
   ]
  },
  {
   "cell_type": "code",
   "execution_count": 17,
   "id": "23cb72ef-bc74-4fc9-9cc5-f5e05b1bc5c1",
   "metadata": {},
   "outputs": [
    {
     "data": {
      "image/png": "[encoded data removed]",
      "text/plain": [
       "<Figure size 640x480 with 1 Axes>"
      ]
     },
     "metadata": {},
     "output_type": "display_data"
    },
    {
     "name": "stdout",
     "output_type": "stream",
     "text": [
      "\u001b[1m1/1\u001b[0m \u001b[32m━━━━━━━━━━━━━━━━━━━━\u001b[0m\u001b[37m\u001b[0m \u001b[1m0s\u001b[0m 53ms/step\n",
      "Predicted digit: 3\n"
     ]
    }
   ],
   "source": [
    "arr = preprocess_digit_image_for_cnn(\"Three.jpg\", invert=True, threshold=False)\n",
    "\n",
    "plt.imshow(arr.reshape(28,28), cmap=\"gray\")\n",
    "plt.title(\"Processed Image for CNN\")\n",
    "plt.axis(\"off\")\n",
    "plt.show()\n",
    "\n",
    "pred = model.predict(arr)\n",
    "print(\"Predicted digit:\", np.argmax(pred))"
   ]
  },
  {
   "cell_type": "code",
   "execution_count": 18,
   "id": "10efd68a-e75e-4e82-a391-72ffd121499e",
   "metadata": {},
   "outputs": [
    {
     "data": {
      "image/png": "[encoded data removed]",
      "text/plain": [
       "<Figure size 640x480 with 1 Axes>"
      ]
     },
     "metadata": {},
     "output_type": "display_data"
    },
    {
     "name": "stdout",
     "output_type": "stream",
     "text": [
      "\u001b[1m1/1\u001b[0m \u001b[32m━━━━━━━━━━━━━━━━━━━━\u001b[0m\u001b[37m\u001b[0m \u001b[1m0s\u001b[0m 62ms/step\n",
      "Predicted digit: 4\n"
     ]
    }
   ],
   "source": [
    "arr = preprocess_digit_image_for_cnn(\"Four.jpg\", invert=True, threshold=False)\n",
    "\n",
    "plt.imshow(arr.reshape(28,28), cmap=\"gray\")\n",
    "plt.title(\"Processed Image for CNN\")\n",
    "plt.axis(\"off\")\n",
    "plt.show()\n",
    "\n",
    "pred = model.predict(arr)\n",
    "print(\"Predicted digit:\", np.argmax(pred))"
   ]
  },
  {
   "cell_type": "code",
   "execution_count": 19,
   "id": "2de77114-a64f-42f8-bf0c-5eee5ecbbd77",
   "metadata": {},
   "outputs": [
    {
     "data": {
      "image/png": "[encoded data removed]",
      "text/plain": [
       "<Figure size 640x480 with 1 Axes>"
      ]
     },
     "metadata": {},
     "output_type": "display_data"
    },
    {
     "name": "stdout",
     "output_type": "stream",
     "text": [
      "\u001b[1m1/1\u001b[0m \u001b[32m━━━━━━━━━━━━━━━━━━━━\u001b[0m\u001b[37m\u001b[0m \u001b[1m0s\u001b[0m 49ms/step\n",
      "Predicted digit: 0\n"
     ]
    }
   ],
   "source": [
    "arr = preprocess_digit_image_for_cnn(\"Five.jpg\", invert=True, threshold=False)\n",
    "\n",
    "plt.imshow(arr.reshape(28,28), cmap=\"gray\")\n",
    "plt.title(\"Processed Image for CNN\")\n",
    "plt.axis(\"off\")\n",
    "plt.show()\n",
    "\n",
    "pred = model.predict(arr)\n",
    "print(\"Predicted digit:\", np.argmax(pred))"
   ]
  },
  {
   "cell_type": "code",
   "execution_count": 20,
   "id": "346b96ef-8441-4dc5-88b2-38b47d20ea1f",
   "metadata": {},
   "outputs": [
    {
     "data": {
      "image/png": "[encoded data removed]",
      "text/plain": [
       "<Figure size 640x480 with 1 Axes>"
      ]
     },
     "metadata": {},
     "output_type": "display_data"
    },
    {
     "name": "stdout",
     "output_type": "stream",
     "text": [
      "\u001b[1m1/1\u001b[0m \u001b[32m━━━━━━━━━━━━━━━━━━━━\u001b[0m\u001b[37m\u001b[0m \u001b[1m0s\u001b[0m 50ms/step\n",
      "Predicted digit: 6\n"
     ]
    }
   ],
   "source": [
    "arr = preprocess_digit_image_for_cnn(\"Six.jpg\", invert=True, threshold=False)\n",
    "\n",
    "plt.imshow(arr.reshape(28,28), cmap=\"gray\")\n",
    "plt.title(\"Processed Image for CNN\")\n",
    "plt.axis(\"off\")\n",
    "plt.show()\n",
    "\n",
    "pred = model.predict(arr)\n",
    "print(\"Predicted digit:\", np.argmax(pred))"
   ]
  },
  {
   "cell_type": "code",
   "execution_count": 21,
   "id": "91371051-90a6-489e-90c4-e2bd9d93f736",
   "metadata": {},
   "outputs": [
    {
     "data": {
      "image/png": "[encoded data removed]",
      "text/plain": [
       "<Figure size 640x480 with 1 Axes>"
      ]
     },
     "metadata": {},
     "output_type": "display_data"
    },
    {
     "name": "stdout",
     "output_type": "stream",
     "text": [
      "\u001b[1m1/1\u001b[0m \u001b[32m━━━━━━━━━━━━━━━━━━━━\u001b[0m\u001b[37m\u001b[0m \u001b[1m0s\u001b[0m 66ms/step\n",
      "Predicted digit: 1\n"
     ]
    }
   ],
   "source": [
    "arr = preprocess_digit_image_for_cnn(\"Seven.jpg\", invert=True, threshold=False)\n",
    "\n",
    "plt.imshow(arr.reshape(28,28), cmap=\"gray\")\n",
    "plt.title(\"Processed Image for CNN\")\n",
    "plt.axis(\"off\")\n",
    "plt.show()\n",
    "\n",
    "pred = model.predict(arr)\n",
    "print(\"Predicted digit:\", np.argmax(pred))"
   ]
  },
  {
   "cell_type": "code",
   "execution_count": 22,
   "id": "d1ab4e93-2115-432b-ab42-5fed03cf1855",
   "metadata": {},
   "outputs": [
    {
     "data": {
      "image/png": "[encoded data removed]",
      "text/plain": [
       "<Figure size 640x480 with 1 Axes>"
      ]
     },
     "metadata": {},
     "output_type": "display_data"
    },
    {
     "name": "stdout",
     "output_type": "stream",
     "text": [
      "\u001b[1m1/1\u001b[0m \u001b[32m━━━━━━━━━━━━━━━━━━━━\u001b[0m\u001b[37m\u001b[0m \u001b[1m0s\u001b[0m 52ms/step\n",
      "Predicted digit: 8\n"
     ]
    }
   ],
   "source": [
    "arr = preprocess_digit_image_for_cnn(\"Eight.jpg\", invert=True, threshold=False)\n",
    "\n",
    "plt.imshow(arr.reshape(28,28), cmap=\"gray\")\n",
    "plt.title(\"Processed Image for CNN\")\n",
    "plt.axis(\"off\")\n",
    "plt.show()\n",
    "\n",
    "pred = model.predict(arr)\n",
    "print(\"Predicted digit:\", np.argmax(pred))"
   ]
  },
  {
   "cell_type": "code",
   "execution_count": 23,
   "id": "c23937da-06b8-4963-a709-e0f3e597b593",
   "metadata": {},
   "outputs": [
    {
     "data": {
      "image/png": "[encoded data removed]",
      "text/plain": [
       "<Figure size 640x480 with 1 Axes>"
      ]
     },
     "metadata": {},
     "output_type": "display_data"
    },
    {
     "name": "stdout",
     "output_type": "stream",
     "text": [
      "\u001b[1m1/1\u001b[0m \u001b[32m━━━━━━━━━━━━━━━━━━━━\u001b[0m\u001b[37m\u001b[0m \u001b[1m0s\u001b[0m 69ms/step\n",
      "Predicted digit: 4\n"
     ]
    }
   ],
   "source": [
    "arr = preprocess_digit_image_for_cnn(\"Nine.jpg\", invert=True, threshold=False)\n",
    "\n",
    "plt.imshow(arr.reshape(28,28), cmap=\"gray\")\n",
    "plt.title(\"Processed Image for CNN\")\n",
    "plt.axis(\"off\")\n",
    "plt.show()\n",
    "\n",
    "pred = model.predict(arr)\n",
    "print(\"Predicted digit:\", np.argmax(pred))"
   ]
  },
  {
   "cell_type": "code",
   "execution_count": null,
   "id": "8c0c2210-7075-4c40-809b-0d6eeb283ce1",
   "metadata": {},
   "outputs": [],
   "source": []
  }
 ],
 "metadata": {
  "kernelspec": {
   "display_name": "Python 3 (ipykernel)",
   "language": "python",
   "name": "python3"
  },
  "language_info": {
   "codemirror_mode": {
    "name": "ipython",
    "version": 3
   },
   "file_extension": ".py",
   "mimetype": "text/x-python",
   "name": "python",
   "nbconvert_exporter": "python",
   "pygments_lexer": "ipython3",
   "version": "3.12.7"
  }
 },
 "nbformat": 4,
 "nbformat_minor": 5
}
